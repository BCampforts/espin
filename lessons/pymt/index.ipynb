{
 "cells": [
  {
   "cell_type": "markdown",
   "metadata": {},
   "source": [
    "<a href=\"https://csdms.colorado.edu\"><img style=\"float: center; width: 75%\" src=\"../../media/ESPIn.png\"></a>"
   ]
  },
  {
   "cell_type": "markdown",
   "metadata": {},
   "source": [
    "# The Python Modeling Toolkit (*pymt*)\n",
    "\n",
    "The Python Modeling Toolkit (*pymt*) is an open source Python package that provides the tools needed to run and couple models that expose the Basic Model Interface (BMI).\n",
    "We'll explore how *pymt* works through a set of Jupyter Notebooks.\n",
    "\n",
    "*  [Introduction to *pymt*](intro.ipynb)\n",
    "   * Why use *pymt*?\n",
    "   * The *pymt* library of models\n",
    "   * Setting up a model simulation\n",
    "   * Initialize, Run, Finalize\n",
    "   * Getting data out of a model\n",
    "\n",
    "*  [Run a standalone model in *pymt*](hydrotrend.ipynb)\n",
    "   * Introduction to Hydrotrend\n",
    "   * Setup + Run + analyze\n",
    "   * Adjust for a changing climate\n",
    "   * Adjust for human impact\n",
    "\n",
    "*  [Couple two models](cem_and_waves.ipynb)\n",
    "   * Introduction to CEM + Waves\n",
    "   * Setup a simulation\n",
    "   * Getter and setters\n",
    "   * Run\n",
    "   * Grids\n",
    "   * Plot + analyze output\n",
    "\n",
    "Additional notebooks:\n",
    "  * [Flexural Subsidence Model](subside.ipynb)   \n",
    "  * [ECSimpleSnow component](ecsimplesnow.ipynb)\n",
    "  * [Frost Number Model](frost_number.ipynb)\n",
    "  * [Kudryavtsev Model](ku.ipynb)\n",
    "  * [Sedflux3D Model](sedflux3d.ipynb)\n"
   ]
  }
 ],
 "metadata": {
  "kernelspec": {
   "display_name": "Python 3",
   "language": "python",
   "name": "python3"
  },
  "language_info": {
   "codemirror_mode": {
    "name": "ipython",
    "version": 3
   },
   "file_extension": ".py",
   "mimetype": "text/x-python",
   "name": "python",
   "nbconvert_exporter": "python",
   "pygments_lexer": "ipython3",
   "version": "3.8.3"
  }
 },
 "nbformat": 4,
 "nbformat_minor": 2
}
